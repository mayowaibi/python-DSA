{
  "nbformat": 4,
  "nbformat_minor": 0,
  "metadata": {
    "colab": {
      "provenance": [],
      "include_colab_link": true
    },
    "kernelspec": {
      "name": "python3",
      "display_name": "Python 3"
    },
    "language_info": {
      "name": "python"
    }
  },
  "cells": [
    {
      "cell_type": "markdown",
      "metadata": {
        "id": "view-in-github",
        "colab_type": "text"
      },
      "source": [
        "<a href=\"https://colab.research.google.com/github/mayowaibi/python-DSA/blob/main/Binary_Search_Data_Structures_%26_Algorithms_Course.ipynb\" target=\"_parent\"><img src=\"https://colab.research.google.com/assets/colab-badge.svg\" alt=\"Open In Colab\"/></a>"
      ]
    },
    {
      "cell_type": "code",
      "execution_count": null,
      "metadata": {
        "id": "FlJ1-8QZViMa"
      },
      "outputs": [],
      "source": [
        "A = [-3, -1, 0, 1, 4, 7]\n",
        "\n",
        "# Naive O(n) searching\n",
        "if 8 in A:\n",
        "  print(True)"
      ]
    },
    {
      "cell_type": "code",
      "source": [
        "# Traditional Binary Search - Looking up if number is in array:\n",
        "# Time: O(log n)\n",
        "# Space: O(1)\n",
        "\n",
        "def binary_search(arr, target):\n",
        "  N = len(arr)\n",
        "  L = 0\n",
        "  R = N - 1\n",
        "\n",
        "  while L <= R:\n",
        "    M = L + ((R-L) // 2)\n",
        "\n",
        "    if arr[M] == target:\n",
        "      return True\n",
        "    elif target < arr[M]:\n",
        "      R = M - 1\n",
        "    else:\n",
        "      L = M + 1\n",
        "\n",
        "  return False\n",
        "\n",
        "binary_search(A, 8)"
      ],
      "metadata": {
        "colab": {
          "base_uri": "https://localhost:8080/"
        },
        "id": "YwA_239uVvix",
        "outputId": "d84b00ca-3930-4b13-eab8-99dcf9e21103"
      },
      "execution_count": null,
      "outputs": [
        {
          "output_type": "execute_result",
          "data": {
            "text/plain": [
              "False"
            ]
          },
          "metadata": {},
          "execution_count": 2
        }
      ]
    },
    {
      "cell_type": "code",
      "source": [
        "# Condition based\n",
        "B = [False, False, False, False, True]\n",
        "\n",
        "def binary_search_condition(arr):\n",
        "  N = len(arr)\n",
        "  L = 0\n",
        "  R = N - 1\n",
        "\n",
        "  while L < R:\n",
        "    M = (L + R) // 2\n",
        "\n",
        "    if arr[M]:\n",
        "      R = M\n",
        "    else:\n",
        "      L = M + 1\n",
        "\n",
        "  return L\n",
        "\n",
        "binary_search_condition(B)"
      ],
      "metadata": {
        "colab": {
          "base_uri": "https://localhost:8080/"
        },
        "id": "B9Gy0p0wZ9cF",
        "outputId": "235c728f-6137-4211-faea-61cbb95fd5c4"
      },
      "execution_count": null,
      "outputs": [
        {
          "output_type": "execute_result",
          "data": {
            "text/plain": [
              "4"
            ]
          },
          "metadata": {},
          "execution_count": 9
        }
      ]
    },
    {
      "cell_type": "code",
      "source": [
        "# Range-Based\n",
        "\n",
        "def guess_number(target, L, R):\n",
        "    while L <= R:\n",
        "        M = (L + R) // 2\n",
        "        if M == target:\n",
        "            return M  # Found the number\n",
        "        elif M < target:\n",
        "            L = M + 1\n",
        "        else:\n",
        "            R = M - 1\n",
        "    return -1  # Target not found\n",
        "\n",
        "\n",
        "target = 2\n",
        "result = guess_number(target, 1, 100)\n",
        "print(f\"The guessed number is: {result}\")"
      ],
      "metadata": {
        "colab": {
          "base_uri": "https://localhost:8080/"
        },
        "id": "2vIseXsgJfY5",
        "outputId": "7c90a690-842a-4e25-a479-62f5576014a8"
      },
      "execution_count": null,
      "outputs": [
        {
          "output_type": "stream",
          "name": "stdout",
          "text": [
            "The guessed number is: 2\n"
          ]
        }
      ]
    }
  ]
}