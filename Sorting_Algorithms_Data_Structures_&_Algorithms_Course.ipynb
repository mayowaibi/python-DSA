{
  "nbformat": 4,
  "nbformat_minor": 0,
  "metadata": {
    "colab": {
      "provenance": [],
      "include_colab_link": true
    },
    "kernelspec": {
      "name": "python3",
      "display_name": "Python 3"
    },
    "language_info": {
      "name": "python"
    }
  },
  "cells": [
    {
      "cell_type": "markdown",
      "metadata": {
        "id": "view-in-github",
        "colab_type": "text"
      },
      "source": [
        "<a href=\"https://colab.research.google.com/github/mayowaibi/python-DSA/blob/main/Sorting_Algorithms_Data_Structures_%26_Algorithms_Course.ipynb\" target=\"_parent\"><img src=\"https://colab.research.google.com/assets/colab-badge.svg\" alt=\"Open In Colab\"/></a>"
      ]
    },
    {
      "cell_type": "code",
      "execution_count": null,
      "metadata": {
        "colab": {
          "base_uri": "https://localhost:8080/"
        },
        "id": "Y7uSsgoLKOMJ",
        "outputId": "68d442c5-3834-4210-cf24-992ec2f35a50"
      },
      "outputs": [
        {
          "output_type": "execute_result",
          "data": {
            "text/plain": [
              "[-5, -3, -3, 1, 2, 2, 2, 3, 7]"
            ]
          },
          "metadata": {},
          "execution_count": 3
        }
      ],
      "source": [
        "# Bubble Sort\n",
        "# Time: O(n^2)\n",
        "# Space: O(1)\n",
        "\n",
        "A = [-5, 3, 2, 1, -3, -3, 7, 2, 2]\n",
        "\n",
        "def bubble_sort(arr):\n",
        "  n = len(arr)\n",
        "  flag = True\n",
        "  while flag:\n",
        "    flag = False\n",
        "    for i in range(1, n):\n",
        "      if arr[i-1] > arr[i]:\n",
        "        flag = True\n",
        "        arr[i-1], arr[i] = arr[i], arr[i-1]\n",
        "\n",
        "bubble_sort(A)\n",
        "A"
      ]
    },
    {
      "cell_type": "code",
      "source": [
        "# Insertion Sort\n",
        "# Time: O(n^2)\n",
        "# Space: O(1)\n",
        "\n",
        "B = [-5, 3, 2, 1, -3, -3, 7, 2, 2]\n",
        "\n",
        "def insertion_sort(arr):\n",
        "  n = len(arr)\n",
        "  for i in range(1, n):\n",
        "    for j in range(i, 0, -1):\n",
        "      if arr[j-1] > arr[j]:\n",
        "        arr[j-1], arr[j] = arr[j], arr[j-1]\n",
        "      else:\n",
        "        break\n",
        "\n",
        "insertion_sort(B)\n",
        "B"
      ],
      "metadata": {
        "colab": {
          "base_uri": "https://localhost:8080/"
        },
        "id": "syLh9GpNLCA3",
        "outputId": "0e6d3598-6cb6-43e0-d4ac-18859fb03f94"
      },
      "execution_count": null,
      "outputs": [
        {
          "output_type": "execute_result",
          "data": {
            "text/plain": [
              "[-5, -3, -3, 1, 2, 2, 2, 3, 7]"
            ]
          },
          "metadata": {},
          "execution_count": 4
        }
      ]
    },
    {
      "cell_type": "code",
      "source": [
        "# Selection Sort\n",
        "# Time: O(n^2)\n",
        "# Space: O(1)\n",
        "\n",
        "C = [-3, 3, 2, 1, -5, -3, 7, 2, 2]\n",
        "\n",
        "def selection_sort(arr):\n",
        "  n = len(arr)\n",
        "  for i in range(n):\n",
        "    min_index = i\n",
        "    for j in range(i+1, n):\n",
        "      if arr[j] < arr[min_index]:\n",
        "        min_index = j\n",
        "    arr[i], arr[min_index] = arr[min_index], arr[i]\n",
        "\n",
        "selection_sort(C)\n",
        "C"
      ],
      "metadata": {
        "colab": {
          "base_uri": "https://localhost:8080/"
        },
        "id": "d0gJZWZoMUbZ",
        "outputId": "d6237fba-5f9a-4595-cb2c-309a75d0e8b8"
      },
      "execution_count": null,
      "outputs": [
        {
          "output_type": "execute_result",
          "data": {
            "text/plain": [
              "[-5, -3, -3, 1, 2, 2, 2, 3, 7]"
            ]
          },
          "metadata": {},
          "execution_count": 5
        }
      ]
    },
    {
      "cell_type": "code",
      "source": [
        "# Merge Sort\n",
        "# Time: O(n log n)\n",
        "# Space: O(n) - Note: can be Log n, but this is harder to write\n",
        "\n",
        "\n",
        "D = [-5, 3, 2, 1, -3, -3, 7, 2, 2]\n",
        "\n",
        "def merge_sort(arr):\n",
        "  n = len(arr)\n",
        "\n",
        "  if n == 1:\n",
        "    return arr\n",
        "\n",
        "  m = len(arr) // 2\n",
        "  L = arr[:m]\n",
        "  R = arr[m:]\n",
        "\n",
        "  L = merge_sort(L)\n",
        "  R = merge_sort(R)\n",
        "  l, r = 0, 0\n",
        "  L_len = len(L)\n",
        "  R_len = len(R)\n",
        "\n",
        "  sorted_arr = [0] * n\n",
        "  i = 0\n",
        "\n",
        "  while l < L_len and r < R_len:\n",
        "    if L[l] < R[r]:\n",
        "      sorted_arr[i] = L[l]\n",
        "      l += 1\n",
        "    else:\n",
        "      sorted_arr[i] = R[r]\n",
        "      r += 1\n",
        "\n",
        "    i += 1\n",
        "\n",
        "  while l < L_len:\n",
        "    sorted_arr[i] = L[l]\n",
        "    l += 1\n",
        "    i += 1\n",
        "\n",
        "  while r < R_len:\n",
        "    sorted_arr[i] = R[r]\n",
        "    r += 1\n",
        "    i += 1\n",
        "\n",
        "  return sorted_arr\n",
        "\n",
        "merge_sort(D)\n"
      ],
      "metadata": {
        "colab": {
          "base_uri": "https://localhost:8080/"
        },
        "id": "RrivlLObNL7w",
        "outputId": "2760bce8-ec7f-4dda-fa81-5e0d206fb781"
      },
      "execution_count": null,
      "outputs": [
        {
          "output_type": "execute_result",
          "data": {
            "text/plain": [
              "[-5, -3, -3, 1, 2, 2, 2, 3, 7]"
            ]
          },
          "metadata": {},
          "execution_count": 6
        }
      ]
    },
    {
      "cell_type": "code",
      "source": [
        "# Quick Sort\n",
        "# Time: O(n log n) (Average case, technically Worst case is O(n^2))\n",
        "# Space: O(n)\n",
        "\n",
        "E = [-5, 3, 2, 1, -3, -3, 7, 2, 2]\n",
        "\n",
        "def quick_sort(arr):\n",
        "  if len(arr) <= 1:\n",
        "    return arr\n",
        "\n",
        "  p = arr[-1]\n",
        "\n",
        "  L = [x for x in arr[:-1] if x <= p]\n",
        "  R = [x for x in arr[:-1] if x > p]\n",
        "\n",
        "  L = quick_sort(L)\n",
        "  R = quick_sort(R)\n",
        "\n",
        "  return L + [p] + R\n",
        "\n",
        "quick_sort(E)"
      ],
      "metadata": {
        "colab": {
          "base_uri": "https://localhost:8080/"
        },
        "id": "eHjk5GrAPOBS",
        "outputId": "de012db9-d90f-4964-b5fc-1307275cd5e6"
      },
      "execution_count": null,
      "outputs": [
        {
          "output_type": "execute_result",
          "data": {
            "text/plain": [
              "[-5, -3, -3, 1, 2, 2, 2, 3, 7]"
            ]
          },
          "metadata": {},
          "execution_count": 7
        }
      ]
    },
    {
      "cell_type": "code",
      "source": [
        "# Counting Sort\n",
        "# Time: O(n + k) where k is the range of data\n",
        "\n",
        "# Note - This can be written with negative arrays, but we'll stick to positive arrays,\n",
        "# so k is the max of the array\n",
        "\n",
        "# Space: O(k)\n",
        "\n",
        "F = [5, 3, 2, 1, 3, 3, 7, 2, 2]\n",
        "\n",
        "def counting_sort(arr):\n",
        "  n = len(arr)\n",
        "  maxx = max(arr)\n",
        "  counts = [0] * (maxx + 1)\n",
        "\n",
        "  for x in arr:\n",
        "    counts[x] += 1\n",
        "\n",
        "  i = 0\n",
        "  for c in range(maxx + 1):\n",
        "    while counts[c] > 0:\n",
        "      arr[i] = c\n",
        "      i += 1\n",
        "      counts[c] -= 1\n",
        "\n",
        "counting_sort(F)\n",
        "F"
      ],
      "metadata": {
        "colab": {
          "base_uri": "https://localhost:8080/"
        },
        "id": "jNrTaMLuQX5X",
        "outputId": "0f6a121b-cb28-431a-e7a3-e51961c43f03"
      },
      "execution_count": null,
      "outputs": [
        {
          "output_type": "execute_result",
          "data": {
            "text/plain": [
              "[1, 2, 2, 2, 3, 3, 3, 5, 7]"
            ]
          },
          "metadata": {},
          "execution_count": 8
        }
      ]
    },
    {
      "cell_type": "code",
      "source": [
        "# What we usually do in practice\n",
        "\n",
        "# Time complexity is O(n log n) from using Tim Sort"
      ],
      "metadata": {
        "id": "DVFa7nImRced"
      },
      "execution_count": null,
      "outputs": []
    },
    {
      "cell_type": "code",
      "source": [
        "G = [-5, 3, 2, 1, -3, -3, 7, 2, 2]\n",
        "\n",
        "# In place (constant space)\n",
        "G.sort()\n",
        "\n",
        "G"
      ],
      "metadata": {
        "colab": {
          "base_uri": "https://localhost:8080/"
        },
        "id": "mpQ-R8zyRp3f",
        "outputId": "227b9c0e-bbd2-44ff-ee18-d4dbdb490113"
      },
      "execution_count": null,
      "outputs": [
        {
          "output_type": "execute_result",
          "data": {
            "text/plain": [
              "[-5, -3, -3, 1, 2, 2, 2, 3, 7]"
            ]
          },
          "metadata": {},
          "execution_count": 9
        }
      ]
    },
    {
      "cell_type": "code",
      "source": [
        "# Get new sorted array - O(n) space\n",
        "\n",
        "H = [-5, 3, 2, 1, -3, -3, 7, 2, 2]\n",
        "\n",
        "sorted_H = sorted(H)\n",
        "\n",
        "H, sorted_H"
      ],
      "metadata": {
        "colab": {
          "base_uri": "https://localhost:8080/"
        },
        "id": "K8GJ5eW7RyIS",
        "outputId": "0386d1a1-caeb-492b-e2e1-4ddda0cb087b"
      },
      "execution_count": null,
      "outputs": [
        {
          "output_type": "execute_result",
          "data": {
            "text/plain": [
              "([-5, 3, 2, 1, -3, -3, 7, 2, 2], [-5, -3, -3, 1, 2, 2, 2, 3, 7])"
            ]
          },
          "metadata": {},
          "execution_count": 10
        }
      ]
    },
    {
      "cell_type": "code",
      "source": [
        "# Sort array of tuples\n",
        "\n",
        "I = [(-5, 3), (2, 1), (-3, -3), (7, 2), (2, 2)]\n",
        "\n",
        "sorted_I = sorted(I, key = lambda t: -t[1])\n",
        "\n",
        "sorted_I"
      ],
      "metadata": {
        "colab": {
          "base_uri": "https://localhost:8080/"
        },
        "id": "Kr5gQqTwR86c",
        "outputId": "cbefca29-e261-4cb9-f007-73acbfd9a297"
      },
      "execution_count": null,
      "outputs": [
        {
          "output_type": "execute_result",
          "data": {
            "text/plain": [
              "[(-5, 3), (7, 2), (2, 2), (2, 1), (-3, -3)]"
            ]
          },
          "metadata": {},
          "execution_count": 13
        }
      ]
    },
    {
      "cell_type": "code",
      "source": [],
      "metadata": {
        "id": "4_4rhQY4SO9B"
      },
      "execution_count": null,
      "outputs": []
    }
  ]
}